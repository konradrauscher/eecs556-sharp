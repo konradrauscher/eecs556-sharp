{
 "cells": [
  {
   "cell_type": "code",
   "execution_count": 1,
   "metadata": {},
   "outputs": [
    {
     "ename": "LoadError",
     "evalue": "\u001b[91mArgumentError: Package MAT not found in current path:\u001b[39m\n\u001b[91m- Run `import Pkg; Pkg.add(\"MAT\")` to install the MAT package.\u001b[39m\n",
     "output_type": "error",
     "traceback": [
      "\u001b[91mArgumentError: Package MAT not found in current path:\u001b[39m\n\u001b[91m- Run `import Pkg; Pkg.add(\"MAT\")` to install the MAT package.\u001b[39m\n",
      "",
      "Stacktrace:",
      " [1] require(::Module, ::Symbol) at ./loading.jl:893",
      " [2] include_string(::Function, ::Module, ::String, ::String) at ./loading.jl:1091"
     ]
    }
   ],
   "source": [
    "using MAT\n",
    "\n",
    "include(\"S2Sharp.jl\")\n",
    "\n",
    "file = matopen(\"../matlab/S2Sharp/Data/Aviris_cell_3.mat\")\n",
    "Xm_im = read(file, \"Xm_im\")\n",
    "Yim = read(file, \"Yim\")\n",
    "close(file)\n",
    "\n",
    "r = 8;# % subspace dimension / the rank\n",
    "q  = [1, 0.3851, 6.9039, 19.9581, 47.8967, 27.5518, 2.7100, 34.8689];# % lam_i = lam*qi\n",
    "ni = 5;#  % number of iterations / one can select fewer iterations (e.g. ni=2) which yields similar result\n",
    "        #  % but is much quicker\n",
    "lam = 1.8998e-04;\n",
    "\n",
    "\n",
    "Xhat_im, output_S2 =S2sharp(Yim,[\"Xm_im\",Xm_im,\"r\",r,\"lambda\",lam,\"q\",q,\n",
    "            \"CDiter\",ni]);\n"
   ]
  },
  {
   "cell_type": "code",
   "execution_count": null,
   "metadata": {},
   "outputs": [],
   "source": []
  }
 ],
 "metadata": {
  "kernelspec": {
   "display_name": "Julia 1.5.3",
   "language": "julia",
   "name": "julia-1.5"
  },
  "language_info": {
   "file_extension": ".jl",
   "mimetype": "application/julia",
   "name": "julia",
   "version": "1.5.3"
  }
 },
 "nbformat": 4,
 "nbformat_minor": 4
}
