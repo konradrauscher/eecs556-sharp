{
 "cells": [
  {
   "cell_type": "code",
   "execution_count": 40,
   "metadata": {},
   "outputs": [
    {
     "name": "stdout",
     "output_type": "stream",
     "text": [
      "nothing\n"
     ]
    },
    {
     "ename": "LoadError",
     "evalue": "\u001b[91mMethodError: no method matching size(::Nothing)\u001b[39m\n\u001b[91m\u001b[0mClosest candidates are:\u001b[39m\n\u001b[91m\u001b[0m  size(\u001b[91m::Core.Compiler.StmtRange\u001b[39m) at show.jl:1874\u001b[39m\n\u001b[91m\u001b[0m  size(\u001b[91m::DataStructures.DiBitVector\u001b[39m) at /Users/johngearig/.julia/packages/DataStructures/ixwFs/src/dibit_vector.jl:41\u001b[39m\n\u001b[91m\u001b[0m  size(\u001b[91m::BitArray{1}\u001b[39m) at bitarray.jl:104\u001b[39m\n\u001b[91m\u001b[0m  ...\u001b[39m",
     "output_type": "error",
     "traceback": [
      "\u001b[91mMethodError: no method matching size(::Nothing)\u001b[39m\n\u001b[91m\u001b[0mClosest candidates are:\u001b[39m\n\u001b[91m\u001b[0m  size(\u001b[91m::Core.Compiler.StmtRange\u001b[39m) at show.jl:1874\u001b[39m\n\u001b[91m\u001b[0m  size(\u001b[91m::DataStructures.DiBitVector\u001b[39m) at /Users/johngearig/.julia/packages/DataStructures/ixwFs/src/dibit_vector.jl:41\u001b[39m\n\u001b[91m\u001b[0m  size(\u001b[91m::BitArray{1}\u001b[39m) at bitarray.jl:104\u001b[39m\n\u001b[91m\u001b[0m  ...\u001b[39m",
      "",
      "Stacktrace:",
      " [1] S2sharp(::Array{Any,2}, ::Array{Any,1}) at /Users/johngearig/Documents/GitHub/eecs556-sharp/julia/S2Sharp.jl:151",
      " [2] top-level scope at In[40]:17",
      " [3] include_string(::Function, ::Module, ::String, ::String) at ./loading.jl:1091"
     ]
    }
   ],
   "source": [
    "using MAT\n",
    "\n",
    "include(\"S2Sharp.jl\")\n",
    "\n",
    "file = matopen(\"../matlab/S2Sharp/Data/Aviris_cell_3.mat\")\n",
    "Xm_im = read(file, \"Xm_im\")\n",
    "Yim = read(file, \"Yim\")\n",
    "close(file)\n",
    "\n",
    "r = 8;# % subspace dimension / the rank\n",
    "q  = [1, 0.3851, 6.9039, 19.9581, 47.8967, 27.5518, 2.7100, 34.8689];# % lam_i = lam*qi\n",
    "ni = 5;#  % number of iterations / one can select fewer iterations (e.g. ni=2) which yields similar result\n",
    "        #  % but is much quicker\n",
    "lam = 1.8998e-04;\n",
    "\n",
    "\n",
    "Xhat_im, output_S2 =S2sharp(Yim,[\"Xm_im\",Xm_im,\"r\",r,\"lambda\",lam,\"q\",q,\n",
    "            \"CDiter\",ni]);\n"
   ]
  },
  {
   "cell_type": "code",
   "execution_count": null,
   "metadata": {},
   "outputs": [],
   "source": []
  },
  {
   "cell_type": "code",
   "execution_count": null,
   "metadata": {},
   "outputs": [],
   "source": []
  }
 ],
 "metadata": {
  "kernelspec": {
   "display_name": "Julia 1.5.3",
   "language": "julia",
   "name": "julia-1.5"
  },
  "language_info": {
   "file_extension": ".jl",
   "mimetype": "application/julia",
   "name": "julia",
   "version": "1.5.3"
  }
 },
 "nbformat": 4,
 "nbformat_minor": 4
}
